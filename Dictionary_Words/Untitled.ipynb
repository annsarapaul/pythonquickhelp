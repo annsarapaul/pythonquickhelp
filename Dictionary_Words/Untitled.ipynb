{
 "cells": [
  {
   "cell_type": "code",
   "execution_count": 93,
   "metadata": {},
   "outputs": [],
   "source": [
    "#Program to read words from a csv file and provide their definition from www.dictionary.com\n",
    "#Input = File with words (one on each line)\n",
    "#Output = File with words and their definition in csv format\n",
    "\n",
    "read_file = 'word.csv'\n",
    "write_filename = 'word_def.csv'"
   ]
  },
  {
   "cell_type": "code",
   "execution_count": 94,
   "metadata": {},
   "outputs": [],
   "source": [
    "import requests\n",
    "from bs4 import BeautifulSoup"
   ]
  },
  {
   "cell_type": "code",
   "execution_count": 96,
   "metadata": {},
   "outputs": [
    {
     "name": "stdout",
     "output_type": "stream",
     "text": [
      "proselyte\n",
      "tyro\n",
      "burgeoning\n",
      "callow\n",
      "engender\n",
      "inchoate\n",
      "incipient\n",
      "nascent\n",
      "acerbic\n",
      "acidious\n",
      "acrimonious\n",
      "mordant\n",
      "trenchant\n",
      "dauntless\n",
      "banal\n",
      "hackneyed\n",
      "insipid\n",
      "platitiude\n",
      "prosaic\n",
      "quotidian\n",
      "trite\n",
      "inscruptable\n"
     ]
    }
   ],
   "source": [
    "import csv\n",
    "word_dict = {}\n",
    "\n",
    "\n",
    "with open(read_file) as csv_file:\n",
    "    csv_reader = csv.reader(csv_file, delimiter=',')\n",
    "    line_count = 0\n",
    "    for row in csv_reader:\n",
    "        word = row[0]\n",
    "        print(word)\n",
    "        result = requests.get(\"https://www.dictionary.com/browse/\"+word)\n",
    "        if result.status_code == 200:\n",
    "            src = result.content\n",
    "            soup = BeautifulSoup(src, 'lxml')\n",
    "            definition = soup.find(\"meta\",  attrs={'name':'description'})\n",
    "            word_def = definition[\"content\"]\n",
    "            word_def = word_def[len(word)+12:len(word_def)-10]\n",
    "            word_dict[word] = word_def\n",
    "        else:\n",
    "            word_def = 'Definition NOT FOUND'\n",
    "        word_dict[word] = word_def\n",
    "\n",
    "            \n",
    "with open(write_filename, 'w') as write_file:\n",
    "    writefile_writer = csv.writer(write_file, delimiter=',', quotechar='\"', quoting=csv.QUOTE_MINIMAL)\n",
    "    writefile_writer.writerow(['Word', 'Definition'])\n",
    "    for key, value in word_dict.items():\n",
    "       writefile_writer.writerow([key, value])\n",
    "            \n",
    "#with open('word_def.csv', mode='w') as write_file:\n",
    "#    for key in word_dict.keys():\n",
    "#        write_file.write(\"%s,%s\\n\"%(key,my_dict[key]))"
   ]
  },
  {
   "cell_type": "code",
   "execution_count": 86,
   "metadata": {},
   "outputs": [],
   "source": [
    "word = 'cursory'\n",
    "result = requests.get(\"https://www.dictionary.com/browse/\"+word)\n",
    "src = result.content\n",
    "soup = BeautifulSoup(src, 'lxml')\n",
    "definition = soup.find(\"meta\",  attrs={'name':'description'})\n",
    "word_def = definition[\"content\"]\n",
    "word_def = word_def[:len(word_def)-10]\n",
    "word_def"
   ]
  }
 ],
 "metadata": {
  "kernelspec": {
   "display_name": "Python 3",
   "language": "python",
   "name": "python3"
  },
  "language_info": {
   "codemirror_mode": {
    "name": "ipython",
    "version": 3
   },
   "file_extension": ".py",
   "mimetype": "text/x-python",
   "name": "python",
   "nbconvert_exporter": "python",
   "pygments_lexer": "ipython3",
   "version": "3.6.4"
  }
 },
 "nbformat": 4,
 "nbformat_minor": 2
}
